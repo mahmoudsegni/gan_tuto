{
  "nbformat": 4,
  "nbformat_minor": 0,
  "metadata": {
    "colab": {
      "name": "BiGan.ipynb",
      "provenance": []
    },
    "kernelspec": {
      "name": "python3",
      "display_name": "Python 3"
    },
    "language_info": {
      "name": "python"
    }
  },
  "cells": [
    {
      "cell_type": "code",
      "metadata": {
        "id": "UdMzk64OpsJ4"
      },
      "source": [
        "\n",
        "from tensorflow.keras.models import Model, Sequential\n",
        "from tensorflow.keras.layers import Input, Dense, Reshape, Flatten, BatchNormalization, Activation, Dropout\n",
        "from tensorflow.keras.layers import Conv2D, Conv2DTranspose, LeakyReLU\n",
        "from tensorflow.keras.layers import LeakyReLU, concatenate\n",
        "from tensorflow.keras.optimizers import Adam\n",
        "\n",
        "from tensorflow.keras.datasets import fashion_mnist\n",
        "import tensorflow as tf\n",
        "\n",
        "import numpy as np\n",
        "import matplotlib.pyplot as plt"
      ],
      "execution_count": 1,
      "outputs": []
    },
    {
      "cell_type": "code",
      "metadata": {
        "id": "pLeA4YA2pxpE"
      },
      "source": [
        "\n",
        "img_shape = (28, 28, 1)\n",
        "opt = Adam(lr=0.0002)\n",
        "latent_dim = 128"
      ],
      "execution_count": 2,
      "outputs": []
    },
    {
      "cell_type": "code",
      "metadata": {
        "id": "vDYkNzcUpxlx"
      },
      "source": [
        "def create_generator():\n",
        "  inp = Input(shape=(latent_dim, ))\n",
        "  d = Dense(7*7*256)(inp)\n",
        "  d = LeakyReLU()(d)\n",
        "\n",
        "  d = Reshape((7, 7, 256))(d)\n",
        "\n",
        "  d = Conv2DTranspose(128, (5, 5), strides=(1, 1), padding='same')(d)\n",
        "  d = BatchNormalization()(d)\n",
        "  d = LeakyReLU()(d)\n",
        "\n",
        "  d = Conv2DTranspose(64, (5, 5), strides=(2, 2), padding='same')(d)\n",
        "  d = BatchNormalization()(d)\n",
        "  d = LeakyReLU()(d)\n",
        "\n",
        "  d = Conv2DTranspose(1, (5, 5), strides=(2, 2), padding='same', activation='tanh')(d)\n",
        "\n",
        "  model = Model(inp, d, name='generator')\n",
        "\n",
        "  return model"
      ],
      "execution_count": 3,
      "outputs": []
    },
    {
      "cell_type": "code",
      "metadata": {
        "id": "o7r1tM12pxiL"
      },
      "source": [
        "def create_discriminator(img_shape=(28, 28, 1)):\n",
        "  z = Input(shape=(latent_dim,))\n",
        "  img = Input(shape=img_shape)\n",
        "\n",
        "  img_nn = Conv2D(64, (5, 5), strides=(2, 2), padding='same')(img)\n",
        "  img_nn = LeakyReLU()(img_nn)\n",
        "\n",
        "  img_nn = Conv2D(128, (5, 5), strides=(2, 2), padding='same')(img_nn)\n",
        "  img_nn = LeakyReLU()(img_nn)\n",
        "\n",
        "  img_f = Flatten()(img_nn)\n",
        "\n",
        "  z_nn = Dense(512)(z)\n",
        "  z_nn = LeakyReLU()(z_nn)\n",
        "\n",
        "  nn = concatenate([img_f, z_nn])\n",
        "\n",
        "  nn = Dense(1, activation='sigmoid')(nn)\n",
        "\n",
        "  return Model([img, z], nn, name='discriminator')"
      ],
      "execution_count": 4,
      "outputs": []
    },
    {
      "cell_type": "code",
      "metadata": {
        "id": "-4Wgxt_IpxgI"
      },
      "source": [
        "def create_encoder(image_shape=(28, 28, 1)):\n",
        "  inp = Input(shape=image_shape)\n",
        "\n",
        "  d = Conv2D(512, (5, 5), strides=(2, 2))(inp)\n",
        "  d = BatchNormalization()(d)\n",
        "  d = LeakyReLU()(d)\n",
        "\n",
        "  d = Conv2D(512, (5, 5), strides=(2, 2))(d)\n",
        "  d = BatchNormalization()(d)\n",
        "  d = LeakyReLU()(d)\n",
        "\n",
        "  d = Flatten()(d)\n",
        "  d = Dense(latent_dim)(d)\n",
        "  model = Model(inp, d, name='encoder')\n",
        "  return model"
      ],
      "execution_count": 5,
      "outputs": []
    },
    {
      "cell_type": "code",
      "metadata": {
        "id": "MxDWBMKMpxeU"
      },
      "source": [
        "def define_generator():\n",
        "  model = Sequential()\n",
        "  model.add(Dense(512, input_dim=latent_dim))\n",
        "  model.add(LeakyReLU())\n",
        "  model.add(BatchNormalization())\n",
        "\n",
        "  model.add(Dense(512))\n",
        "  model.add(LeakyReLU())\n",
        "  model.add(BatchNormalization())\n",
        "\n",
        "  model.add(Dense(np.prod(img_shape), activation='tanh'))\n",
        "  model.add(Reshape(img_shape))\n",
        "\n",
        "  z = Input(shape=(latent_dim, ))\n",
        "  gen_img = model(z)\n",
        "\n",
        "  return Model(z, gen_img)"
      ],
      "execution_count": 7,
      "outputs": []
    },
    {
      "cell_type": "code",
      "metadata": {
        "id": "nOzauMwwpxcG"
      },
      "source": [
        "def define_discriminator():\n",
        "  z = Input(shape=(latent_dim,))\n",
        "  img = Input(shape=img_shape)\n",
        "\n",
        "  inp = concatenate([z, Flatten()(img)])\n",
        "\n",
        "  d = Dense(1024)(inp)\n",
        "  d = LeakyReLU()(d)\n",
        "  d = Dropout(0.5)(d)\n",
        "\n",
        "  d = Dense(1024)(d)\n",
        "  d = LeakyReLU()(d)\n",
        "  d = Dropout(0.5)(d)\n",
        "\n",
        "  d = Dense(1024)(d)\n",
        "  d = LeakyReLU()(d)\n",
        "  d = Dropout(0.5)(d) \n",
        "  \n",
        "  out = Dense(1, activation='sigmoid')(d)\n",
        "\n",
        "  return Model([z, img], out)"
      ],
      "execution_count": 8,
      "outputs": []
    },
    {
      "cell_type": "code",
      "metadata": {
        "id": "ziubz15mqEPd"
      },
      "source": [
        "def define_encoder():\n",
        "  model = Sequential([Flatten(input_shape=img_shape),\n",
        "                      Dense(128),\n",
        "                      LeakyReLU(),\n",
        "                      BatchNormalization(),\n",
        "\n",
        "                      Dense(256),\n",
        "                      LeakyReLU(),\n",
        "                      BatchNormalization(),\n",
        "                      \n",
        "                      Dense(512),\n",
        "                      LeakyReLU(),\n",
        "                      BatchNormalization(),\n",
        "                      Dense(latent_dim)])\n",
        "\n",
        "  img = Input(shape=img_shape)\n",
        "  z = model(img)\n",
        "\n",
        "  return Model(img, z)"
      ],
      "execution_count": 9,
      "outputs": []
    },
    {
      "cell_type": "code",
      "metadata": {
        "id": "dhxZMk_HqENM"
      },
      "source": [
        "discriminator = define_discriminator()\n",
        "discriminator.compile(loss=['binary_crossentropy'], optimizer=opt, metrics=['accuracy'])\n",
        "\n",
        "discriminator.trainable = False\n",
        "\n",
        "generator = define_generator()\n",
        "encoder = define_encoder()\n",
        "\n",
        "z = Input(shape=(latent_dim,))\n",
        "img_ = generator(z)\n",
        "\n",
        "img = Input(shape=img_shape)\n",
        "z_ = encoder(img)\n",
        "\n",
        "fake = discriminator([z, img_])\n",
        "real = discriminator([z_, img])\n",
        "\n",
        "bigan_generator = Model([z, img], [fake, real])\n",
        "bigan_generator.compile(loss=['binary_crossentropy', 'binary_crossentropy'], optimizer=opt)"
      ],
      "execution_count": 10,
      "outputs": []
    },
    {
      "cell_type": "code",
      "metadata": {
        "id": "VRiEQdWbqW8W"
      },
      "source": [
        "def train(dataset, epochs, batch_size=128):\n",
        "  (X_train, _), (_, _) = dataset.load_data()\n",
        "  X_train = (X_train.astype(np.float32) - 127.5) / 127.5\n",
        "  X_train = np.expand_dims(X_train, axis=3)\n",
        "\n",
        "  real = np.ones((batch_size, 1))\n",
        "  fake = np.zeros((batch_size, 1))\n",
        "\n",
        "  for epoch in range(epochs):\n",
        "    z = np.random.normal(size=(batch_size, latent_dim))\n",
        "    imgs_ = generator.predict(z)\n",
        "\n",
        "    idx = np.random.randint(0, X_train.shape[0], batch_size)\n",
        "    imgs = X_train[idx]\n",
        "    z_ = encoder.predict(imgs)\n",
        "\n",
        "    d_loss_real = discriminator.train_on_batch([z_, imgs], real)\n",
        "    d_loss_fake = discriminator.train_on_batch([z, imgs_], fake)\n",
        "    d_loss = 0.5 * np.add(d_loss_real, d_loss_fake)\n",
        "\n",
        "    g_loss = bigan_generator.train_on_batch([z, imgs], [real, fake])\n",
        "\n",
        "    print(f\"Epoch {epoch+1}\")"
      ],
      "execution_count": 11,
      "outputs": []
    },
    {
      "cell_type": "code",
      "metadata": {
        "colab": {
          "base_uri": "https://localhost:8080/"
        },
        "id": "zEWG5iPDqW6B",
        "outputId": "e7dbbfd1-8bfa-44c6-dbe9-4cbec827bf23"
      },
      "source": [
        "train(fashion_mnist, 100, 1)"
      ],
      "execution_count": 12,
      "outputs": [
        {
          "output_type": "stream",
          "text": [
            "Downloading data from https://storage.googleapis.com/tensorflow/tf-keras-datasets/train-labels-idx1-ubyte.gz\n",
            "32768/29515 [=================================] - 0s 0us/step\n",
            "Downloading data from https://storage.googleapis.com/tensorflow/tf-keras-datasets/train-images-idx3-ubyte.gz\n",
            "26427392/26421880 [==============================] - 0s 0us/step\n",
            "Downloading data from https://storage.googleapis.com/tensorflow/tf-keras-datasets/t10k-labels-idx1-ubyte.gz\n",
            "8192/5148 [===============================================] - 0s 0us/step\n",
            "Downloading data from https://storage.googleapis.com/tensorflow/tf-keras-datasets/t10k-images-idx3-ubyte.gz\n",
            "4423680/4422102 [==============================] - 0s 0us/step\n",
            "Epoch 1\n",
            "Epoch 2\n",
            "Epoch 3\n",
            "Epoch 4\n",
            "Epoch 5\n",
            "Epoch 6\n",
            "Epoch 7\n",
            "Epoch 8\n",
            "Epoch 9\n",
            "Epoch 10\n",
            "Epoch 11\n",
            "Epoch 12\n",
            "Epoch 13\n",
            "Epoch 14\n",
            "Epoch 15\n",
            "Epoch 16\n",
            "Epoch 17\n",
            "Epoch 18\n",
            "Epoch 19\n",
            "Epoch 20\n",
            "Epoch 21\n",
            "Epoch 22\n",
            "Epoch 23\n",
            "Epoch 24\n",
            "Epoch 25\n",
            "Epoch 26\n",
            "Epoch 27\n",
            "Epoch 28\n",
            "Epoch 29\n",
            "Epoch 30\n",
            "Epoch 31\n",
            "Epoch 32\n",
            "Epoch 33\n",
            "Epoch 34\n",
            "Epoch 35\n",
            "Epoch 36\n",
            "Epoch 37\n",
            "Epoch 38\n",
            "Epoch 39\n",
            "Epoch 40\n",
            "Epoch 41\n",
            "Epoch 42\n",
            "Epoch 43\n",
            "Epoch 44\n",
            "Epoch 45\n",
            "Epoch 46\n",
            "Epoch 47\n",
            "Epoch 48\n",
            "Epoch 49\n",
            "Epoch 50\n",
            "Epoch 51\n",
            "Epoch 52\n",
            "Epoch 53\n",
            "Epoch 54\n",
            "Epoch 55\n",
            "Epoch 56\n",
            "Epoch 57\n",
            "Epoch 58\n",
            "Epoch 59\n",
            "Epoch 60\n",
            "Epoch 61\n",
            "Epoch 62\n",
            "Epoch 63\n",
            "Epoch 64\n",
            "Epoch 65\n",
            "Epoch 66\n",
            "Epoch 67\n",
            "Epoch 68\n",
            "Epoch 69\n",
            "Epoch 70\n",
            "Epoch 71\n",
            "Epoch 72\n",
            "Epoch 73\n",
            "Epoch 74\n",
            "Epoch 75\n",
            "Epoch 76\n",
            "Epoch 77\n",
            "Epoch 78\n",
            "Epoch 79\n",
            "Epoch 80\n",
            "Epoch 81\n",
            "Epoch 82\n",
            "Epoch 83\n",
            "Epoch 84\n",
            "Epoch 85\n",
            "Epoch 86\n",
            "Epoch 87\n",
            "Epoch 88\n",
            "Epoch 89\n",
            "Epoch 90\n",
            "Epoch 91\n",
            "Epoch 92\n",
            "Epoch 93\n",
            "Epoch 94\n",
            "Epoch 95\n",
            "Epoch 96\n",
            "Epoch 97\n",
            "Epoch 98\n",
            "Epoch 99\n",
            "Epoch 100\n"
          ],
          "name": "stdout"
        }
      ]
    },
    {
      "cell_type": "code",
      "metadata": {
        "id": "COF6fkQrqW3k"
      },
      "source": [
        "def plot_images():\n",
        "  row, col = 2, 3\n",
        "\n",
        "  z = np.random.normal(size=(6, latent_dim))\n",
        "  images = generator.predict(z)\n",
        "  images = 0.5 * images + 0.5\n",
        "  \n",
        "  fig, axs = plt.subplots(row, col, figsize=(16, 6))\n",
        "  count = 0\n",
        "  for i in range(row):\n",
        "    for j in range(col):\n",
        "      axs[i, j].imshow(images[count, :, :, 0], cmap='gray')\n",
        "      axs[i, j].axis('off')\n",
        "      count += 1\n",
        "\n",
        "  plt.show()"
      ],
      "execution_count": 13,
      "outputs": []
    },
    {
      "cell_type": "code",
      "metadata": {
        "colab": {
          "base_uri": "https://localhost:8080/",
          "height": 357
        },
        "id": "uMUXpRZnqEKl",
        "outputId": "0faa8ce5-fb74-4f2e-95e8-9cbee37133ff"
      },
      "source": [
        "plot_images()\n"
      ],
      "execution_count": 16,
      "outputs": [
        {
          "output_type": "display_data",
          "data": {
            "image/png": "[encoded data removed]",
            "text/plain": [
              "<Figure size 1152x432 with 6 Axes>"
            ]
          },
          "metadata": {
            "tags": [],
            "needs_background": "light"
          }
        }
      ]
    }
  ]
}