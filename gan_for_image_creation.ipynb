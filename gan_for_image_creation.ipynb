{
  "nbformat": 4,
  "nbformat_minor": 0,
  "metadata": {
    "colab": {
      "name": "gan for image creation.ipynb",
      "provenance": []
    },
    "kernelspec": {
      "name": "python3",
      "display_name": "Python 3"
    },
    "language_info": {
      "name": "python"
    }
  },
  "cells": [
    {
      "cell_type": "code",
      "metadata": {
        "id": "5RORmoE9BeBU"
      },
      "source": [
        "import matplotlib.pyplot as plt\n",
        "from tensorflow.keras import Model\n",
        "from tensorflow.keras import datasets\n",
        "from tensorflow.keras.optimizers import SGD \n",
        "from tensorflow.keras.layers import Dense, Flatten, Reshape\n"
      ],
      "execution_count": 1,
      "outputs": []
    },
    {
      "cell_type": "code",
      "metadata": {
        "id": "PBYLLyr4CLIW"
      },
      "source": [
        "class Encoder(Model):\n",
        "    def __init__(self):\n",
        "        super(Encoder, self).__init__()\n",
        "        self.flatten = Flatten(input_shape=(28, 28))\n",
        "        self.dense_1 = Dense(400, activation='relu')\n",
        "        self.dense_2 = Dense(200, activation='relu')\n",
        "        self.dense_3 = Dense(100, activation='relu')\n",
        "        self.dense_4 = Dense(50,  activation='relu')\n",
        "        self.dense_5 = Dense(25,  activation='relu')\n",
        "\n",
        "    def call(self, x):\n",
        "        x = self.flatten(x)\n",
        "        x = self.dense_1(x)\n",
        "        x = self.dense_2(x)\n",
        "        x = self.dense_3(x)\n",
        "        x = self.dense_4(x)\n",
        "\n",
        "        return self.dense_5(x)"
      ],
      "execution_count": 2,
      "outputs": []
    },
    {
      "cell_type": "code",
      "metadata": {
        "id": "VjhdYLchCR_4"
      },
      "source": [
        "class Decoder(Model):\n",
        "    def __init__(self):\n",
        "        super(Decoder, self).__init__()\n",
        "        self.dense_1 = Dense(50,   activation='relu', input_shape=[25])\n",
        "        self.dense_2 = Dense(100,  activation='relu')\n",
        "        self.dense_3 = Dense(200,  activation='relu')\n",
        "        self.dense_4 = Dense(400,  activation='relu')\n",
        "        self.dense_5 = Dense(784,  activation='sigmoid')\n",
        "        self.reshape = Reshape([28, 28])\n",
        "\n",
        "    def call(self, x):\n",
        "        x = self.dense_1(x)\n",
        "        x = self.dense_2(x)\n",
        "        x = self.dense_3(x)\n",
        "        x = self.dense_4(x)\n",
        "        x = self.dense_5(x)\n",
        "\n",
        "        return self.reshape(x)"
      ],
      "execution_count": 3,
      "outputs": []
    },
    {
      "cell_type": "code",
      "metadata": {
        "id": "NGEGQF1lCXc7"
      },
      "source": [
        "class Autoencoder(Model):\n",
        "    def __init__(self):\n",
        "        super(Autoencoder, self).__init__()\n",
        "        self.encoder = Encoder()\n",
        "        self.decoder = Decoder()\n",
        "  \n",
        "    def call(self, input_features):\n",
        "        code = self.encoder(input_features)\n",
        "        reconstructed = self.decoder(code)\n",
        "        return reconstructed"
      ],
      "execution_count": 4,
      "outputs": []
    },
    {
      "cell_type": "code",
      "metadata": {
        "id": "IVkUouJiCdTq"
      },
      "source": [
        "autoencoder = Autoencoder()\n"
      ],
      "execution_count": 6,
      "outputs": []
    },
    {
      "cell_type": "code",
      "metadata": {
        "id": "bmq2Yv0MClW-"
      },
      "source": [
        "autoencoder.compile(loss= 'mean_squared_error',\n",
        "                    optimizer= SGD(1.5),\n",
        "                    metrics=['accuracy'])"
      ],
      "execution_count": 7,
      "outputs": []
    },
    {
      "cell_type": "code",
      "metadata": {
        "colab": {
          "base_uri": "https://localhost:8080/"
        },
        "id": "P0T98ANaCoD0",
        "outputId": "c5ba823b-1562-4600-b76b-21baeb838aa0"
      },
      "source": [
        "(X_train, y_train), (X_test, y_test) = datasets.mnist.load_data()\n",
        "X_train, X_test = X_train / 255.0, X_test / 255.0"
      ],
      "execution_count": 8,
      "outputs": [
        {
          "output_type": "stream",
          "text": [
            "Downloading data from https://storage.googleapis.com/tensorflow/tf-keras-datasets/mnist.npz\n",
            "11493376/11490434 [==============================] - 0s 0us/step\n"
          ],
          "name": "stdout"
        }
      ]
    },
    {
      "cell_type": "code",
      "metadata": {
        "colab": {
          "base_uri": "https://localhost:8080/"
        },
        "id": "xepJqrX5CoAY",
        "outputId": "78af8556-a143-4d6f-9a74-9a0112def46b"
      },
      "source": [
        "autoencoder.fit(X_train, X_train,\n",
        "                epochs= 5)"
      ],
      "execution_count": 10,
      "outputs": [
        {
          "output_type": "stream",
          "text": [
            "Epoch 1/5\n",
            "1875/1875 [==============================] - 17s 9ms/step - loss: 0.0294 - accuracy: 0.2025\n",
            "Epoch 2/5\n",
            "1875/1875 [==============================] - 17s 9ms/step - loss: 0.0270 - accuracy: 0.2113\n",
            "Epoch 3/5\n",
            "1875/1875 [==============================] - 17s 9ms/step - loss: 0.0251 - accuracy: 0.2189\n",
            "Epoch 4/5\n",
            "1875/1875 [==============================] - 17s 9ms/step - loss: 0.0238 - accuracy: 0.2243\n",
            "Epoch 5/5\n",
            "1875/1875 [==============================] - 17s 9ms/step - loss: 0.0228 - accuracy: 0.2284\n"
          ],
          "name": "stdout"
        },
        {
          "output_type": "execute_result",
          "data": {
            "text/plain": [
              "<tensorflow.python.keras.callbacks.History at 0x7fcf33929210>"
            ]
          },
          "metadata": {
            "tags": []
          },
          "execution_count": 10
        }
      ]
    },
    {
      "cell_type": "code",
      "metadata": {
        "id": "BNls7lC4Cn9S"
      },
      "source": [
        "X_keras_autoencoder = autoencoder.predict(X_test[:10])\n"
      ],
      "execution_count": 11,
      "outputs": []
    },
    {
      "cell_type": "code",
      "metadata": {
        "id": "yq558LzsEeo0"
      },
      "source": [
        "def plotter(data, title):\n",
        "    fig = plt.figure(figsize=(12, 6))\n",
        "    fig.subplots_adjust(left=0, right=1, bottom=0, top=1, hspace=0.05, wspace=0.05)\n",
        "    for i in range(10):\n",
        "        ax = fig.add_subplot(1, 10, i + 1, xticks=[], yticks=[])\n",
        "        ax.imshow(data[i], \n",
        "                cmap=plt.cm.binary, interpolation='nearest')\n",
        "    ax.yaxis.set_label_position(\"right\")\n",
        "    ax.set_ylabel(title, fontsize='medium')"
      ],
      "execution_count": 12,
      "outputs": []
    },
    {
      "cell_type": "code",
      "metadata": {
        "colab": {
          "base_uri": "https://localhost:8080/",
          "height": 225
        },
        "id": "QQkoqHfsEhTq",
        "outputId": "4ecf1f2b-51d2-4774-da24-6c1db95f3280"
      },
      "source": [
        "plotter(X_test,'X_test')\n",
        "plotter(X_keras_autoencoder,'Autoencoder keras')"
      ],
      "execution_count": 13,
      "outputs": [
        {
          "output_type": "display_data",
          "data": {
            "image/png": "[encoded data removed]",
            "text/plain": [
              "<Figure size 864x432 with 10 Axes>"
            ]
          },
          "metadata": {
            "tags": []
          }
        },
        {
          "output_type": "display_data",
          "data": {
            "image/png": "[encoded data removed]",
            "text/plain": [
              "<Figure size 864x432 with 10 Axes>"
            ]
          },
          "metadata": {
            "tags": []
          }
        }
      ]
    }
  ]
}